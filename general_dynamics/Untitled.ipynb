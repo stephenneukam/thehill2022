{
  "cells": [
    {
      "cell_type": "raw",
      "metadata": {},
      "source": [
        "---\n",
        "title: \"General Dynamics Political Donations\"\n",
        "author: \"Stephen Neukam\"\n",
        "date: \"`r Sys.Date()`\"\n",
        "title-block-banner: true\n",
        "format:\n",
        "  html:\n",
        "    #theme: cosmo\n",
        "    layout: full\n",
        "    self-contained: true\n",
        "    toc: true\n",
        "    toc-depth: 3\n",
        "execute:\n",
        "  echo: false\n",
        "  warning: false\n",
        "  message: false\n",
        "---"
      ],
      "id": "916a6242"
    },
    {
      "cell_type": "markdown",
      "metadata": {},
      "source": [
        "```{css}\n",
        ".small-grey-text {\n",
        "  font-size: .7em;\n",
        "  color: Gra\n",
        "}\n",
        "```"
      ],
      "id": "d8570b12"
    }
  ],
  "metadata": {
    "kernelspec": {
      "display_name": "Python 3",
      "language": "python",
      "name": "python3"
    }
  },
  "nbformat": 4,
  "nbformat_minor": 5
}